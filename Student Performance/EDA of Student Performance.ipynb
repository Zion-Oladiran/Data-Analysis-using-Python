{
 "cells": [
  {
   "cell_type": "markdown",
   "metadata": {},
   "source": [
    "This notebook contains the analysis of the students performance in Mathematics, Reading an writing. It also shows anlysis of the students data(gender, race and parents level of education)."
   ]
  },
  {
   "cell_type": "code",
   "execution_count": 1,
   "metadata": {},
   "outputs": [],
   "source": [
    "##Pandas library is used to read the dataset into a dataFrame\n",
    "\n",
    "import pandas as pd\n",
    "Performance_df = pd.read_csv('StudentsPerformance.csv')"
   ]
  },
  {
   "cell_type": "code",
   "execution_count": 2,
   "metadata": {},
   "outputs": [
    {
     "data": {
      "text/html": [
       "<div>\n",
       "<style scoped>\n",
       "    .dataframe tbody tr th:only-of-type {\n",
       "        vertical-align: middle;\n",
       "    }\n",
       "\n",
       "    .dataframe tbody tr th {\n",
       "        vertical-align: top;\n",
       "    }\n",
       "\n",
       "    .dataframe thead th {\n",
       "        text-align: right;\n",
       "    }\n",
       "</style>\n",
       "<table border=\"1\" class=\"dataframe\">\n",
       "  <thead>\n",
       "    <tr style=\"text-align: right;\">\n",
       "      <th></th>\n",
       "      <th>gender</th>\n",
       "      <th>race/ethnicity</th>\n",
       "      <th>parental level of education</th>\n",
       "      <th>lunch</th>\n",
       "      <th>test preparation course</th>\n",
       "      <th>math score</th>\n",
       "      <th>reading score</th>\n",
       "      <th>writing score</th>\n",
       "    </tr>\n",
       "  </thead>\n",
       "  <tbody>\n",
       "    <tr>\n",
       "      <th>0</th>\n",
       "      <td>female</td>\n",
       "      <td>group B</td>\n",
       "      <td>bachelor's degree</td>\n",
       "      <td>standard</td>\n",
       "      <td>none</td>\n",
       "      <td>72</td>\n",
       "      <td>72</td>\n",
       "      <td>74</td>\n",
       "    </tr>\n",
       "    <tr>\n",
       "      <th>1</th>\n",
       "      <td>female</td>\n",
       "      <td>group C</td>\n",
       "      <td>some college</td>\n",
       "      <td>standard</td>\n",
       "      <td>completed</td>\n",
       "      <td>69</td>\n",
       "      <td>90</td>\n",
       "      <td>88</td>\n",
       "    </tr>\n",
       "    <tr>\n",
       "      <th>2</th>\n",
       "      <td>female</td>\n",
       "      <td>group B</td>\n",
       "      <td>master's degree</td>\n",
       "      <td>standard</td>\n",
       "      <td>none</td>\n",
       "      <td>90</td>\n",
       "      <td>95</td>\n",
       "      <td>93</td>\n",
       "    </tr>\n",
       "    <tr>\n",
       "      <th>3</th>\n",
       "      <td>male</td>\n",
       "      <td>group A</td>\n",
       "      <td>associate's degree</td>\n",
       "      <td>free/reduced</td>\n",
       "      <td>none</td>\n",
       "      <td>47</td>\n",
       "      <td>57</td>\n",
       "      <td>44</td>\n",
       "    </tr>\n",
       "    <tr>\n",
       "      <th>4</th>\n",
       "      <td>male</td>\n",
       "      <td>group C</td>\n",
       "      <td>some college</td>\n",
       "      <td>standard</td>\n",
       "      <td>none</td>\n",
       "      <td>76</td>\n",
       "      <td>78</td>\n",
       "      <td>75</td>\n",
       "    </tr>\n",
       "  </tbody>\n",
       "</table>\n",
       "</div>"
      ],
      "text/plain": [
       "   gender race/ethnicity parental level of education         lunch  \\\n",
       "0  female        group B           bachelor's degree      standard   \n",
       "1  female        group C                some college      standard   \n",
       "2  female        group B             master's degree      standard   \n",
       "3    male        group A          associate's degree  free/reduced   \n",
       "4    male        group C                some college      standard   \n",
       "\n",
       "  test preparation course  math score  reading score  writing score  \n",
       "0                    none          72             72             74  \n",
       "1               completed          69             90             88  \n",
       "2                    none          90             95             93  \n",
       "3                    none          47             57             44  \n",
       "4                    none          76             78             75  "
      ]
     },
     "execution_count": 2,
     "metadata": {},
     "output_type": "execute_result"
    }
   ],
   "source": [
    "#This shows an overhead view of the DataFrame\n",
    "\n",
    "Performance_df.head()"
   ]
  },
  {
   "cell_type": "code",
   "execution_count": 3,
   "metadata": {},
   "outputs": [
    {
     "data": {
      "text/plain": [
       "(1000, 8)"
      ]
     },
     "execution_count": 3,
     "metadata": {},
     "output_type": "execute_result"
    }
   ],
   "source": [
    "#This is used to check the number of rows and columns contained in the dataset\n",
    "\n",
    "Performance_df.shape"
   ]
  },
  {
   "cell_type": "code",
   "execution_count": 4,
   "metadata": {},
   "outputs": [
    {
     "data": {
      "text/html": [
       "<div>\n",
       "<style scoped>\n",
       "    .dataframe tbody tr th:only-of-type {\n",
       "        vertical-align: middle;\n",
       "    }\n",
       "\n",
       "    .dataframe tbody tr th {\n",
       "        vertical-align: top;\n",
       "    }\n",
       "\n",
       "    .dataframe thead th {\n",
       "        text-align: right;\n",
       "    }\n",
       "</style>\n",
       "<table border=\"1\" class=\"dataframe\">\n",
       "  <thead>\n",
       "    <tr style=\"text-align: right;\">\n",
       "      <th></th>\n",
       "      <th>math score</th>\n",
       "      <th>reading score</th>\n",
       "      <th>writing score</th>\n",
       "    </tr>\n",
       "  </thead>\n",
       "  <tbody>\n",
       "    <tr>\n",
       "      <th>count</th>\n",
       "      <td>1000.00000</td>\n",
       "      <td>1000.000000</td>\n",
       "      <td>1000.000000</td>\n",
       "    </tr>\n",
       "    <tr>\n",
       "      <th>mean</th>\n",
       "      <td>66.08900</td>\n",
       "      <td>69.169000</td>\n",
       "      <td>68.054000</td>\n",
       "    </tr>\n",
       "    <tr>\n",
       "      <th>std</th>\n",
       "      <td>15.16308</td>\n",
       "      <td>14.600192</td>\n",
       "      <td>15.195657</td>\n",
       "    </tr>\n",
       "    <tr>\n",
       "      <th>min</th>\n",
       "      <td>0.00000</td>\n",
       "      <td>17.000000</td>\n",
       "      <td>10.000000</td>\n",
       "    </tr>\n",
       "    <tr>\n",
       "      <th>25%</th>\n",
       "      <td>57.00000</td>\n",
       "      <td>59.000000</td>\n",
       "      <td>57.750000</td>\n",
       "    </tr>\n",
       "    <tr>\n",
       "      <th>50%</th>\n",
       "      <td>66.00000</td>\n",
       "      <td>70.000000</td>\n",
       "      <td>69.000000</td>\n",
       "    </tr>\n",
       "    <tr>\n",
       "      <th>75%</th>\n",
       "      <td>77.00000</td>\n",
       "      <td>79.000000</td>\n",
       "      <td>79.000000</td>\n",
       "    </tr>\n",
       "    <tr>\n",
       "      <th>max</th>\n",
       "      <td>100.00000</td>\n",
       "      <td>100.000000</td>\n",
       "      <td>100.000000</td>\n",
       "    </tr>\n",
       "  </tbody>\n",
       "</table>\n",
       "</div>"
      ],
      "text/plain": [
       "       math score  reading score  writing score\n",
       "count  1000.00000    1000.000000    1000.000000\n",
       "mean     66.08900      69.169000      68.054000\n",
       "std      15.16308      14.600192      15.195657\n",
       "min       0.00000      17.000000      10.000000\n",
       "25%      57.00000      59.000000      57.750000\n",
       "50%      66.00000      70.000000      69.000000\n",
       "75%      77.00000      79.000000      79.000000\n",
       "max     100.00000     100.000000     100.000000"
      ]
     },
     "execution_count": 4,
     "metadata": {},
     "output_type": "execute_result"
    }
   ],
   "source": [
    "#This helps to understand the statistical properties of the numerical variables in the dataframe\n",
    "\n",
    "Performance_df.describe()"
   ]
  },
  {
   "cell_type": "code",
   "execution_count": 5,
   "metadata": {},
   "outputs": [
    {
     "name": "stdout",
     "output_type": "stream",
     "text": [
      "<class 'pandas.core.frame.DataFrame'>\n",
      "RangeIndex: 1000 entries, 0 to 999\n",
      "Data columns (total 8 columns):\n",
      " #   Column                       Non-Null Count  Dtype \n",
      "---  ------                       --------------  ----- \n",
      " 0   gender                       1000 non-null   object\n",
      " 1   race/ethnicity               1000 non-null   object\n",
      " 2   parental level of education  1000 non-null   object\n",
      " 3   lunch                        1000 non-null   object\n",
      " 4   test preparation course      1000 non-null   object\n",
      " 5   math score                   1000 non-null   int64 \n",
      " 6   reading score                1000 non-null   int64 \n",
      " 7   writing score                1000 non-null   int64 \n",
      "dtypes: int64(3), object(5)\n",
      "memory usage: 62.6+ KB\n"
     ]
    }
   ],
   "source": [
    "#This helps to understand each column and check out for missing values\n",
    "\n",
    "Performance_df.info()"
   ]
  },
  {
   "cell_type": "markdown",
   "metadata": {},
   "source": [
    "Data Visualization is done to explore hidden trends/ patterns in data. It also aids better understanding of data. In this notebook, Matplotlib library is used. "
   ]
  },
  {
   "cell_type": "code",
   "execution_count": 6,
   "metadata": {},
   "outputs": [
    {
     "data": {
      "image/png": "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\n",
      "text/plain": [
       "<Figure size 1008x432 with 3 Axes>"
      ]
     },
     "metadata": {
      "needs_background": "light"
     },
     "output_type": "display_data"
    }
   ],
   "source": [
    "#This shows the class distribution of students performance in math, reading and writing respectively\n",
    "\n",
    "import matplotlib.pyplot as plt\n",
    "%matplotlib inline\n",
    "\n",
    "plt.figure(figsize=(14,6))\n",
    "\n",
    "plt.subplot(1, 3, 1)  #the figure has 1 row, 2 columns, and this plot is the first plot.\n",
    "Performance_df['math score'].plot(kind='hist')\n",
    "plt.title('Math Scores')\n",
    "plt.xlabel('math scores')\n",
    "plt.tight_layout()\n",
    "\n",
    "plt.subplot(1, 3, 2)\n",
    "Performance_df['reading score'].plot(kind='hist')\n",
    "plt.title('Reading Scores')\n",
    "plt.xlabel('reading scores')\n",
    "plt.tight_layout()\n",
    "\n",
    "plt.subplot(1, 3, 3)\n",
    "Performance_df['writing score'].plot(kind='hist')\n",
    "plt.title('Writing Scores') \n",
    "plt.xlabel('writing scores')\n",
    "plt.tight_layout()\n",
    "#ax.set_ylabel('Density')\n",
    "#ax.set_xlabel('Writing scores')"
   ]
  },
  {
   "cell_type": "code",
   "execution_count": 7,
   "metadata": {},
   "outputs": [
    {
     "data": {
      "image/png": "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\n",
      "text/plain": [
       "<Figure size 1008x432 with 3 Axes>"
      ]
     },
     "metadata": {
      "needs_background": "light"
     },
     "output_type": "display_data"
    }
   ],
   "source": [
    "#This shows the statistical analysis of students performance in math , reading and writing respectively. \n",
    "\n",
    "plt.figure(figsize=(14,6))\n",
    "\n",
    "plt.subplot(1, 3, 1)  #the figure has 1 row, 2 columns, and this plot is the first plot.\n",
    "Performance_df['math score'].plot(kind='box')\n",
    "plt.title('Math Scores')\n",
    "plt.tight_layout()\n",
    "\n",
    "plt.subplot(1, 3, 2)\n",
    "Performance_df['reading score'].plot(kind='box')\n",
    "plt.title('Reading Scores')\n",
    "plt.tight_layout()\n",
    "\n",
    "plt.subplot(1, 3, 3)\n",
    "Performance_df['writing score'].plot(kind='box')\n",
    "plt.title('Writing Scores') \n",
    "plt.tight_layout()"
   ]
  },
  {
   "cell_type": "code",
   "execution_count": 8,
   "metadata": {},
   "outputs": [
    {
     "data": {
      "text/plain": [
       "<matplotlib.legend.Legend at 0x2310bd1bc08>"
      ]
     },
     "execution_count": 8,
     "metadata": {},
     "output_type": "execute_result"
    },
    {
     "data": {
      "image/png": "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\n",
      "text/plain": [
       "<Figure size 432x288 with 1 Axes>"
      ]
     },
     "metadata": {},
     "output_type": "display_data"
    }
   ],
   "source": [
    "#This is a pictorial representation of the level of education of parents. \n",
    "parents_info = Performance_df['parental level of education'].value_counts()\n",
    "parents_label = Performance_df['parental level of education']\n",
    "\n",
    "\n",
    "fig, ax = plt.subplots()\n",
    "\n",
    "parents_info.plot(kind='pie', autopct='%1.1f%%', legend=True)\n",
    "ax.set_title('Parents level of education')\n",
    "ax.set_ylabel('')\n",
    "plt.legend(loc=\"best\")"
   ]
  },
  {
   "cell_type": "code",
   "execution_count": 9,
   "metadata": {},
   "outputs": [
    {
     "data": {
      "text/html": [
       "<div>\n",
       "<style scoped>\n",
       "    .dataframe tbody tr th:only-of-type {\n",
       "        vertical-align: middle;\n",
       "    }\n",
       "\n",
       "    .dataframe tbody tr th {\n",
       "        vertical-align: top;\n",
       "    }\n",
       "\n",
       "    .dataframe thead th {\n",
       "        text-align: right;\n",
       "    }\n",
       "</style>\n",
       "<table border=\"1\" class=\"dataframe\">\n",
       "  <thead>\n",
       "    <tr style=\"text-align: right;\">\n",
       "      <th></th>\n",
       "      <th>math score</th>\n",
       "      <th>reading score</th>\n",
       "      <th>writing score</th>\n",
       "    </tr>\n",
       "  </thead>\n",
       "  <tbody>\n",
       "    <tr>\n",
       "      <th>math score</th>\n",
       "      <td>1.000000</td>\n",
       "      <td>0.817580</td>\n",
       "      <td>0.802642</td>\n",
       "    </tr>\n",
       "    <tr>\n",
       "      <th>reading score</th>\n",
       "      <td>0.817580</td>\n",
       "      <td>1.000000</td>\n",
       "      <td>0.954598</td>\n",
       "    </tr>\n",
       "    <tr>\n",
       "      <th>writing score</th>\n",
       "      <td>0.802642</td>\n",
       "      <td>0.954598</td>\n",
       "      <td>1.000000</td>\n",
       "    </tr>\n",
       "  </tbody>\n",
       "</table>\n",
       "</div>"
      ],
      "text/plain": [
       "               math score  reading score  writing score\n",
       "math score       1.000000       0.817580       0.802642\n",
       "reading score    0.817580       1.000000       0.954598\n",
       "writing score    0.802642       0.954598       1.000000"
      ]
     },
     "execution_count": 9,
     "metadata": {},
     "output_type": "execute_result"
    }
   ],
   "source": [
    "#This shows the correlation between the subjects\n",
    "\n",
    "corr = Performance_df.corr()\n",
    "\n",
    "corr"
   ]
  },
  {
   "cell_type": "code",
   "execution_count": 10,
   "metadata": {},
   "outputs": [
    {
     "data": {
      "text/plain": [
       "([<matplotlib.axis.YTick at 0x2310c1cbe88>,\n",
       "  <matplotlib.axis.YTick at 0x2310c213b48>,\n",
       "  <matplotlib.axis.YTick at 0x2310c23c4c8>],\n",
       " [Text(0, 0, 'math score'),\n",
       "  Text(0, 1, 'reading score'),\n",
       "  Text(0, 2, 'writing score')])"
      ]
     },
     "execution_count": 10,
     "metadata": {},
     "output_type": "execute_result"
    },
    {
     "data": {
      "image/png": "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\n",
      "text/plain": [
       "<Figure size 432x432 with 1 Axes>"
      ]
     },
     "metadata": {
      "needs_background": "light"
     },
     "output_type": "display_data"
    }
   ],
   "source": [
    "fig = plt.figure(figsize=(6,6))\n",
    "plt.imshow(corr, cmap='RdBu')\n",
    "plt.title(\"2D-Heat Map showing correlation of math, reading and writing scores\")\n",
    "plt.xticks(range(len(corr.columns)), corr.columns)\n",
    "plt.yticks(range(len(corr.columns)), corr.columns)"
   ]
  },
  {
   "cell_type": "code",
   "execution_count": 11,
   "metadata": {},
   "outputs": [
    {
     "data": {
      "image/png": "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\n",
      "text/plain": [
       "<Figure size 720x288 with 2 Axes>"
      ]
     },
     "metadata": {
      "needs_background": "light"
     },
     "output_type": "display_data"
    }
   ],
   "source": [
    "#This reveals the Gender statistics of class population\n",
    "\n",
    "fig, (ax1, ax2) = plt.subplots(ncols=2, figsize=(10, 4))\n",
    "\n",
    "gender = Performance_df['gender'].value_counts()\n",
    "gender.plot(kind='bar', ax=ax1, x='Gender', title='Barchart representation of Students Gender')\n",
    "ax1.set_xlabel('Gender')\n",
    "\n",
    "explode = [0, 0.2]\n",
    "ax2.pie(gender, autopct='%1.1f%%', explode=explode)\n",
    "ax2.set_title('Piechart representation of Students Gender')\n",
    "ax2.legend(Performance_df['gender'], loc=\"upper right\")\n",
    "\n",
    "plt.tight_layout(pad=3.0)"
   ]
  },
  {
   "cell_type": "code",
   "execution_count": 12,
   "metadata": {},
   "outputs": [
    {
     "data": {
      "image/png": "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\n",
      "text/plain": [
       "<Figure size 864x288 with 2 Axes>"
      ]
     },
     "metadata": {
      "needs_background": "light"
     },
     "output_type": "display_data"
    }
   ],
   "source": [
    "fig, (ax1, ax2) = plt.subplots(ncols=2, figsize=(12,4))\n",
    "\n",
    "Performance_df.groupby('race/ethnicity').size().plot(kind='bar', ax=ax1)\n",
    "\n",
    "Performance_df.groupby('race/ethnicity').size().plot(kind='pie', autopct='%1.1f%%', ax=ax2, legend=True)\n",
    "\n",
    "plt.title('Graphical representation of Students Race')\n",
    "ax1.set_title('Barchart representation of Students Race', size=16)\n",
    "ax2.set_title('Piechart representation of Students Race', size=16)\n",
    "ax1.set_xlabel('Student Race')\n",
    "ax2.set_ylabel('')\n",
    "plt.tight_layout()\n",
    "\n",
    "#state = Performance_df['gender']\n",
    "#ax1.legend(state, loc='right')\n",
    "#ax2.legend(loc='lower right')\n",
    "\n",
    "#ax1.pie(Performance_df.groupby('gender').size(), autopct='%1.1f%%', textprops={'fontsize': 20},colors=['violet', 'lime'])\n",
    "#Performance_df.groupby('gender').size().plot(kind='pie', autopct='%1.1f%%', textprops={'fontsize': 20}, colors=['violet', 'lime'], ax=ax1)\n",
    "#ax2.pie(Performance_df.groupby('race/ethnicity').size(), autopct='%1.1f%%', textprops={'fontsize': 20})\n",
    "\n",
    "# set the spacing between subplots\n",
    "#plt.subplots_adjust(left=0.1,bottom=0.1, right=0.9, top=0.9, wspace=0.4, hspace=0.4)\n"
   ]
  },
  {
   "cell_type": "code",
   "execution_count": 13,
   "metadata": {},
   "outputs": [
    {
     "data": {
      "text/html": [
       "<div>\n",
       "<style scoped>\n",
       "    .dataframe tbody tr th:only-of-type {\n",
       "        vertical-align: middle;\n",
       "    }\n",
       "\n",
       "    .dataframe tbody tr th {\n",
       "        vertical-align: top;\n",
       "    }\n",
       "\n",
       "    .dataframe thead th {\n",
       "        text-align: right;\n",
       "    }\n",
       "</style>\n",
       "<table border=\"1\" class=\"dataframe\">\n",
       "  <thead>\n",
       "    <tr style=\"text-align: right;\">\n",
       "      <th></th>\n",
       "      <th>gender</th>\n",
       "      <th>race/ethnicity</th>\n",
       "      <th>parental level of education</th>\n",
       "      <th>lunch</th>\n",
       "      <th>test_prep_course</th>\n",
       "      <th>math score</th>\n",
       "      <th>reading score</th>\n",
       "      <th>writing score</th>\n",
       "    </tr>\n",
       "  </thead>\n",
       "  <tbody>\n",
       "    <tr>\n",
       "      <th>0</th>\n",
       "      <td>female</td>\n",
       "      <td>group B</td>\n",
       "      <td>bachelor's degree</td>\n",
       "      <td>standard</td>\n",
       "      <td>none</td>\n",
       "      <td>72</td>\n",
       "      <td>72</td>\n",
       "      <td>74</td>\n",
       "    </tr>\n",
       "    <tr>\n",
       "      <th>1</th>\n",
       "      <td>female</td>\n",
       "      <td>group C</td>\n",
       "      <td>some college</td>\n",
       "      <td>standard</td>\n",
       "      <td>completed</td>\n",
       "      <td>69</td>\n",
       "      <td>90</td>\n",
       "      <td>88</td>\n",
       "    </tr>\n",
       "    <tr>\n",
       "      <th>2</th>\n",
       "      <td>female</td>\n",
       "      <td>group B</td>\n",
       "      <td>master's degree</td>\n",
       "      <td>standard</td>\n",
       "      <td>none</td>\n",
       "      <td>90</td>\n",
       "      <td>95</td>\n",
       "      <td>93</td>\n",
       "    </tr>\n",
       "    <tr>\n",
       "      <th>3</th>\n",
       "      <td>male</td>\n",
       "      <td>group A</td>\n",
       "      <td>associate's degree</td>\n",
       "      <td>free/reduced</td>\n",
       "      <td>none</td>\n",
       "      <td>47</td>\n",
       "      <td>57</td>\n",
       "      <td>44</td>\n",
       "    </tr>\n",
       "    <tr>\n",
       "      <th>4</th>\n",
       "      <td>male</td>\n",
       "      <td>group C</td>\n",
       "      <td>some college</td>\n",
       "      <td>standard</td>\n",
       "      <td>none</td>\n",
       "      <td>76</td>\n",
       "      <td>78</td>\n",
       "      <td>75</td>\n",
       "    </tr>\n",
       "    <tr>\n",
       "      <th>...</th>\n",
       "      <td>...</td>\n",
       "      <td>...</td>\n",
       "      <td>...</td>\n",
       "      <td>...</td>\n",
       "      <td>...</td>\n",
       "      <td>...</td>\n",
       "      <td>...</td>\n",
       "      <td>...</td>\n",
       "    </tr>\n",
       "    <tr>\n",
       "      <th>995</th>\n",
       "      <td>female</td>\n",
       "      <td>group E</td>\n",
       "      <td>master's degree</td>\n",
       "      <td>standard</td>\n",
       "      <td>completed</td>\n",
       "      <td>88</td>\n",
       "      <td>99</td>\n",
       "      <td>95</td>\n",
       "    </tr>\n",
       "    <tr>\n",
       "      <th>996</th>\n",
       "      <td>male</td>\n",
       "      <td>group C</td>\n",
       "      <td>high school</td>\n",
       "      <td>free/reduced</td>\n",
       "      <td>none</td>\n",
       "      <td>62</td>\n",
       "      <td>55</td>\n",
       "      <td>55</td>\n",
       "    </tr>\n",
       "    <tr>\n",
       "      <th>997</th>\n",
       "      <td>female</td>\n",
       "      <td>group C</td>\n",
       "      <td>high school</td>\n",
       "      <td>free/reduced</td>\n",
       "      <td>completed</td>\n",
       "      <td>59</td>\n",
       "      <td>71</td>\n",
       "      <td>65</td>\n",
       "    </tr>\n",
       "    <tr>\n",
       "      <th>998</th>\n",
       "      <td>female</td>\n",
       "      <td>group D</td>\n",
       "      <td>some college</td>\n",
       "      <td>standard</td>\n",
       "      <td>completed</td>\n",
       "      <td>68</td>\n",
       "      <td>78</td>\n",
       "      <td>77</td>\n",
       "    </tr>\n",
       "    <tr>\n",
       "      <th>999</th>\n",
       "      <td>female</td>\n",
       "      <td>group D</td>\n",
       "      <td>some college</td>\n",
       "      <td>free/reduced</td>\n",
       "      <td>none</td>\n",
       "      <td>77</td>\n",
       "      <td>86</td>\n",
       "      <td>86</td>\n",
       "    </tr>\n",
       "  </tbody>\n",
       "</table>\n",
       "<p>1000 rows × 8 columns</p>\n",
       "</div>"
      ],
      "text/plain": [
       "     gender race/ethnicity parental level of education         lunch  \\\n",
       "0    female        group B           bachelor's degree      standard   \n",
       "1    female        group C                some college      standard   \n",
       "2    female        group B             master's degree      standard   \n",
       "3      male        group A          associate's degree  free/reduced   \n",
       "4      male        group C                some college      standard   \n",
       "..      ...            ...                         ...           ...   \n",
       "995  female        group E             master's degree      standard   \n",
       "996    male        group C                 high school  free/reduced   \n",
       "997  female        group C                 high school  free/reduced   \n",
       "998  female        group D                some college      standard   \n",
       "999  female        group D                some college  free/reduced   \n",
       "\n",
       "    test_prep_course  math score  reading score  writing score  \n",
       "0               none          72             72             74  \n",
       "1          completed          69             90             88  \n",
       "2               none          90             95             93  \n",
       "3               none          47             57             44  \n",
       "4               none          76             78             75  \n",
       "..               ...         ...            ...            ...  \n",
       "995        completed          88             99             95  \n",
       "996             none          62             55             55  \n",
       "997        completed          59             71             65  \n",
       "998        completed          68             78             77  \n",
       "999             none          77             86             86  \n",
       "\n",
       "[1000 rows x 8 columns]"
      ]
     },
     "execution_count": 13,
     "metadata": {},
     "output_type": "execute_result"
    }
   ],
   "source": [
    "df_new = Performance_df.rename(columns={'test preparation course': 'test_prep_course'})\n",
    "df_new"
   ]
  },
  {
   "cell_type": "code",
   "execution_count": 14,
   "metadata": {},
   "outputs": [
    {
     "data": {
      "text/plain": [
       "none         642\n",
       "completed    358\n",
       "Name: test_prep_course, dtype: int64"
      ]
     },
     "execution_count": 14,
     "metadata": {},
     "output_type": "execute_result"
    }
   ],
   "source": [
    "Prep_course = df_new['test_prep_course'].value_counts()\n",
    "\n",
    "Prep_course"
   ]
  },
  {
   "cell_type": "code",
   "execution_count": 15,
   "metadata": {},
   "outputs": [
    {
     "data": {
      "text/plain": [
       "Text(0, 0.5, '')"
      ]
     },
     "execution_count": 15,
     "metadata": {},
     "output_type": "execute_result"
    },
    {
     "data": {
      "image/png": "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\n",
      "text/plain": [
       "<Figure size 720x288 with 1 Axes>"
      ]
     },
     "metadata": {},
     "output_type": "display_data"
    }
   ],
   "source": [
    "fig, ax = plt.subplots(figsize=(10, 4))\n",
    "\n",
    "state2 = df_new['test_prep_course'].unique()\n",
    "state2.sort()\n",
    "df_new.groupby('test_prep_course').size().plot(kind='pie', autopct='%1.1f%%', title='Statistics of test preparation course')\n",
    "ax.legend(state2, loc='best')\n",
    "ax.set_ylabel('')"
   ]
  },
  {
   "cell_type": "code",
   "execution_count": 16,
   "metadata": {},
   "outputs": [
    {
     "data": {
      "text/html": [
       "<div>\n",
       "<style scoped>\n",
       "    .dataframe tbody tr th:only-of-type {\n",
       "        vertical-align: middle;\n",
       "    }\n",
       "\n",
       "    .dataframe tbody tr th {\n",
       "        vertical-align: top;\n",
       "    }\n",
       "\n",
       "    .dataframe thead th {\n",
       "        text-align: right;\n",
       "    }\n",
       "</style>\n",
       "<table border=\"1\" class=\"dataframe\">\n",
       "  <thead>\n",
       "    <tr style=\"text-align: right;\">\n",
       "      <th></th>\n",
       "      <th>math score</th>\n",
       "    </tr>\n",
       "    <tr>\n",
       "      <th>gender</th>\n",
       "      <th></th>\n",
       "    </tr>\n",
       "  </thead>\n",
       "  <tbody>\n",
       "    <tr>\n",
       "      <th>female</th>\n",
       "      <td>63.633205</td>\n",
       "    </tr>\n",
       "    <tr>\n",
       "      <th>male</th>\n",
       "      <td>68.728216</td>\n",
       "    </tr>\n",
       "  </tbody>\n",
       "</table>\n",
       "</div>"
      ],
      "text/plain": [
       "        math score\n",
       "gender            \n",
       "female   63.633205\n",
       "male     68.728216"
      ]
     },
     "execution_count": 16,
     "metadata": {},
     "output_type": "execute_result"
    }
   ],
   "source": [
    "n_by_state = df_new.groupby([\"gender\"])[[\"math score\"]].mean()\n",
    "\n",
    "n_by_state.head(10)"
   ]
  },
  {
   "cell_type": "code",
   "execution_count": 17,
   "metadata": {},
   "outputs": [
    {
     "data": {
      "text/html": [
       "<div>\n",
       "<style scoped>\n",
       "    .dataframe tbody tr th:only-of-type {\n",
       "        vertical-align: middle;\n",
       "    }\n",
       "\n",
       "    .dataframe tbody tr th {\n",
       "        vertical-align: top;\n",
       "    }\n",
       "\n",
       "    .dataframe thead th {\n",
       "        text-align: right;\n",
       "    }\n",
       "</style>\n",
       "<table border=\"1\" class=\"dataframe\">\n",
       "  <thead>\n",
       "    <tr style=\"text-align: right;\">\n",
       "      <th></th>\n",
       "      <th>gender</th>\n",
       "      <th>race/ethnicity</th>\n",
       "      <th>parental level of education</th>\n",
       "      <th>lunch</th>\n",
       "      <th>test preparation course</th>\n",
       "      <th>math_score</th>\n",
       "      <th>reading_score</th>\n",
       "      <th>writing_score</th>\n",
       "    </tr>\n",
       "  </thead>\n",
       "  <tbody>\n",
       "    <tr>\n",
       "      <th>0</th>\n",
       "      <td>female</td>\n",
       "      <td>group B</td>\n",
       "      <td>bachelor's degree</td>\n",
       "      <td>standard</td>\n",
       "      <td>none</td>\n",
       "      <td>72</td>\n",
       "      <td>72</td>\n",
       "      <td>74</td>\n",
       "    </tr>\n",
       "    <tr>\n",
       "      <th>1</th>\n",
       "      <td>female</td>\n",
       "      <td>group C</td>\n",
       "      <td>some college</td>\n",
       "      <td>standard</td>\n",
       "      <td>completed</td>\n",
       "      <td>69</td>\n",
       "      <td>90</td>\n",
       "      <td>88</td>\n",
       "    </tr>\n",
       "    <tr>\n",
       "      <th>2</th>\n",
       "      <td>female</td>\n",
       "      <td>group B</td>\n",
       "      <td>master's degree</td>\n",
       "      <td>standard</td>\n",
       "      <td>none</td>\n",
       "      <td>90</td>\n",
       "      <td>95</td>\n",
       "      <td>93</td>\n",
       "    </tr>\n",
       "    <tr>\n",
       "      <th>3</th>\n",
       "      <td>male</td>\n",
       "      <td>group A</td>\n",
       "      <td>associate's degree</td>\n",
       "      <td>free/reduced</td>\n",
       "      <td>none</td>\n",
       "      <td>47</td>\n",
       "      <td>57</td>\n",
       "      <td>44</td>\n",
       "    </tr>\n",
       "    <tr>\n",
       "      <th>4</th>\n",
       "      <td>male</td>\n",
       "      <td>group C</td>\n",
       "      <td>some college</td>\n",
       "      <td>standard</td>\n",
       "      <td>none</td>\n",
       "      <td>76</td>\n",
       "      <td>78</td>\n",
       "      <td>75</td>\n",
       "    </tr>\n",
       "    <tr>\n",
       "      <th>...</th>\n",
       "      <td>...</td>\n",
       "      <td>...</td>\n",
       "      <td>...</td>\n",
       "      <td>...</td>\n",
       "      <td>...</td>\n",
       "      <td>...</td>\n",
       "      <td>...</td>\n",
       "      <td>...</td>\n",
       "    </tr>\n",
       "    <tr>\n",
       "      <th>995</th>\n",
       "      <td>female</td>\n",
       "      <td>group E</td>\n",
       "      <td>master's degree</td>\n",
       "      <td>standard</td>\n",
       "      <td>completed</td>\n",
       "      <td>88</td>\n",
       "      <td>99</td>\n",
       "      <td>95</td>\n",
       "    </tr>\n",
       "    <tr>\n",
       "      <th>996</th>\n",
       "      <td>male</td>\n",
       "      <td>group C</td>\n",
       "      <td>high school</td>\n",
       "      <td>free/reduced</td>\n",
       "      <td>none</td>\n",
       "      <td>62</td>\n",
       "      <td>55</td>\n",
       "      <td>55</td>\n",
       "    </tr>\n",
       "    <tr>\n",
       "      <th>997</th>\n",
       "      <td>female</td>\n",
       "      <td>group C</td>\n",
       "      <td>high school</td>\n",
       "      <td>free/reduced</td>\n",
       "      <td>completed</td>\n",
       "      <td>59</td>\n",
       "      <td>71</td>\n",
       "      <td>65</td>\n",
       "    </tr>\n",
       "    <tr>\n",
       "      <th>998</th>\n",
       "      <td>female</td>\n",
       "      <td>group D</td>\n",
       "      <td>some college</td>\n",
       "      <td>standard</td>\n",
       "      <td>completed</td>\n",
       "      <td>68</td>\n",
       "      <td>78</td>\n",
       "      <td>77</td>\n",
       "    </tr>\n",
       "    <tr>\n",
       "      <th>999</th>\n",
       "      <td>female</td>\n",
       "      <td>group D</td>\n",
       "      <td>some college</td>\n",
       "      <td>free/reduced</td>\n",
       "      <td>none</td>\n",
       "      <td>77</td>\n",
       "      <td>86</td>\n",
       "      <td>86</td>\n",
       "    </tr>\n",
       "  </tbody>\n",
       "</table>\n",
       "<p>1000 rows × 8 columns</p>\n",
       "</div>"
      ],
      "text/plain": [
       "     gender race/ethnicity parental level of education         lunch  \\\n",
       "0    female        group B           bachelor's degree      standard   \n",
       "1    female        group C                some college      standard   \n",
       "2    female        group B             master's degree      standard   \n",
       "3      male        group A          associate's degree  free/reduced   \n",
       "4      male        group C                some college      standard   \n",
       "..      ...            ...                         ...           ...   \n",
       "995  female        group E             master's degree      standard   \n",
       "996    male        group C                 high school  free/reduced   \n",
       "997  female        group C                 high school  free/reduced   \n",
       "998  female        group D                some college      standard   \n",
       "999  female        group D                some college  free/reduced   \n",
       "\n",
       "    test preparation course  math_score  reading_score  writing_score  \n",
       "0                      none          72             72             74  \n",
       "1                 completed          69             90             88  \n",
       "2                      none          90             95             93  \n",
       "3                      none          47             57             44  \n",
       "4                      none          76             78             75  \n",
       "..                      ...         ...            ...            ...  \n",
       "995               completed          88             99             95  \n",
       "996                    none          62             55             55  \n",
       "997               completed          59             71             65  \n",
       "998               completed          68             78             77  \n",
       "999                    none          77             86             86  \n",
       "\n",
       "[1000 rows x 8 columns]"
      ]
     },
     "execution_count": 17,
     "metadata": {},
     "output_type": "execute_result"
    }
   ],
   "source": [
    "df_new1 = Performance_df.rename(columns={'math score': 'math_score', 'reading score': 'reading_score', 'writing score': 'writing_score' })\n",
    "\n",
    "df_new1"
   ]
  },
  {
   "cell_type": "code",
   "execution_count": 18,
   "metadata": {},
   "outputs": [],
   "source": [
    "Math_filtered = df_new1.query('math_score > 80')\n",
    "Reading_filtered =df_new1.query('reading_score > 80')\n",
    "Writing_filtered =df_new1.query('writing_score > 80')"
   ]
  },
  {
   "cell_type": "code",
   "execution_count": 19,
   "metadata": {},
   "outputs": [
    {
     "name": "stdout",
     "output_type": "stream",
     "text": [
      "gender\n",
      "female     68\n",
      "male      108\n",
      "Name: math_score, dtype: int64\n",
      "gender\n",
      "female    159\n",
      "male       76\n",
      "Name: reading_score, dtype: int64\n",
      "gender\n",
      "female    154\n",
      "male       54\n",
      "Name: writing_score, dtype: int64\n"
     ]
    }
   ],
   "source": [
    "Math_stat = Math_filtered.groupby('gender')['math_score'].count()\n",
    "Reading_stat = Reading_filtered.groupby('gender')['reading_score'].count()\n",
    "Writing_stat = Writing_filtered.groupby('gender')['writing_score'].count()\n",
    "\n",
    "print(Math_stat)\n",
    "print(Reading_stat)\n",
    "print(Writing_stat)"
   ]
  },
  {
   "cell_type": "code",
   "execution_count": 20,
   "metadata": {},
   "outputs": [
    {
     "data": {
      "image/png": "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\n",
      "text/plain": [
       "<Figure size 1008x432 with 3 Axes>"
      ]
     },
     "metadata": {},
     "output_type": "display_data"
    }
   ],
   "source": [
    "\n",
    "\n",
    "plt.figure(figsize=(14,6))\n",
    "\n",
    "plt.subplot(1, 3, 1)  #the figure has 1 row, 2 columns, and this plot is the first plot.\n",
    "Math_stat.plot(kind = 'pie', autopct = \"%.0f%%\")\n",
    "plt.title('Math Scores')\n",
    "plt.tight_layout()\n",
    "\n",
    "plt.subplot(1, 3, 2)\n",
    "Reading_stat.plot(kind = 'pie', autopct = \"%.0f%%\")\n",
    "plt.title('Reading Scores')\n",
    "plt.tight_layout()\n",
    "\n",
    "plt.subplot(1, 3, 3)\n",
    "Writing_stat.plot(kind = 'pie', autopct = \"%.0f%%\")\n",
    "plt.title('Writing Scores') \n",
    "plt.tight_layout()"
   ]
  },
  {
   "cell_type": "markdown",
   "metadata": {},
   "source": [
    "From the analysis above, we can say that males performed better than females in mathematics while females performed better in Reading and Writing."
   ]
  },
  {
   "cell_type": "code",
   "execution_count": null,
   "metadata": {},
   "outputs": [],
   "source": []
  }
 ],
 "metadata": {
  "kernelspec": {
   "display_name": "Python 3",
   "language": "python",
   "name": "python3"
  },
  "language_info": {
   "codemirror_mode": {
    "name": "ipython",
    "version": 3
   },
   "file_extension": ".py",
   "mimetype": "text/x-python",
   "name": "python",
   "nbconvert_exporter": "python",
   "pygments_lexer": "ipython3",
   "version": "3.7.6"
  }
 },
 "nbformat": 4,
 "nbf